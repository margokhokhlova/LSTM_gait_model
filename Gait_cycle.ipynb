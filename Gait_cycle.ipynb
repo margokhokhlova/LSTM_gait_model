{
 "cells": [
  {
   "cell_type": "code",
   "execution_count": 1,
   "metadata": {
    "collapsed": true
   },
   "outputs": [],
   "source": [
    "import numpy as np\n",
    "\n",
    "import matplotlib.pyplot as plt\n",
    "\n",
    "%matplotlib inline"
   ]
  },
  {
   "cell_type": "markdown",
   "metadata": {},
   "source": [
    "## 2 -Gait Modeal:  LSTMs in Keras: \n",
    "\n",
    " LSTM model that takes as inputs my gait angles features.\n"
   ]
  },
  {
   "cell_type": "code",
   "execution_count": 47,
   "metadata": {},
   "outputs": [],
   "source": [
    "import numpy as np\n",
    "np.random.seed(0)\n",
    "from keras.models import Model\n",
    "from keras.layers import Dense, Input, Dropout, LSTM, Activation\n",
    "from keras.layers.embeddings import Embedding\n",
    "from keras.preprocessing import sequence\n",
    "from keras.initializers import glorot_uniform\n",
    "import tensorflow as tf\n",
    "np.random.seed(1)"
   ]
  },
  {
   "cell_type": "code",
   "execution_count": 131,
   "metadata": {
    "scrolled": true
   },
   "outputs": [
    {
     "name": "stdout",
     "output_type": "stream",
     "text": [
      "(232, 2162)\n",
      "(232, 1)\n",
      "(498, 2162)\n",
      "(498, 1)\n",
      "(120, 2162)\n",
      "(120, 1)\n"
     ]
    }
   ],
   "source": [
    "# load data with Pandas\n",
    "import pandas as pd\n",
    "X_train = pd.read_csv(\"cycles_for_LSTM/X_train.csv\")\n",
    "Y_train = pd.read_csv(\"cycles_for_LSTM/Y_train.csv\")\n",
    "X_val = pd.read_csv(\"cycles_for_LSTM/X_val.csv\")\n",
    "Y_val = pd.read_csv(\"cycles_for_LSTM/Y_val.csv\")\n",
    "X_test = pd.read_csv(\"cycles_for_LSTM/X_test.csv\")\n",
    "Y_test = pd.read_csv(\"cycles_for_LSTM/Y_test.csv\")\n",
    "X_all = pd.read_csv(\"cycles_for_LSTM/X_all.csv\")\n",
    "Y_all = pd.read_csv(\"cycles_for_LSTM/Y_all.csv\")\n",
    "# print things about the files\n",
    "print(X_train.shape)\n",
    "print(Y_train.shape)\n",
    "print(X_val.shape)\n",
    "print(Y_val.shape)\n",
    "print(X_test.shape)\n",
    "print(Y_test.shape)\n",
    "#print(X_train.head(1))"
   ]
  },
  {
   "cell_type": "code",
   "execution_count": 26,
   "metadata": {},
   "outputs": [],
   "source": [
    "def Reshape_to_input(X):\n",
    "    \"\"\"\n",
    "    reshapes data\n",
    "    \"\"\"\n",
    "    max_length = 15\n",
    "    [Num_examples, dim] = X.shape\n",
    "    input_X = X.values[:,2:].reshape(Num_examples, max_length, 144)\n",
    "    \n",
    "    return input_X\n",
    "    "
   ]
  },
  {
   "cell_type": "code",
   "execution_count": 78,
   "metadata": {
    "collapsed": true
   },
   "outputs": [],
   "source": [
    "X_train = Reshape_to_input(X_train)\n",
    "X_val = Reshape_to_input(X_val)\n",
    "X_test = Reshape_to_input(X_test)\n",
    "X_all = Reshape_to_input(X_all)"
   ]
  },
  {
   "cell_type": "code",
   "execution_count": 214,
   "metadata": {},
   "outputs": [],
   "source": [
    "def convert_to_one_hot(inputY, C):\n",
    "    N= inputY.size\n",
    "    Y=np.zeros((N,C))\n",
    "    for i in range (0, inputY.size):\n",
    "        Y[i, inputY[i]-1] = 1\n",
    "        \n",
    "    \n",
    "    return Y\n"
   ]
  },
  {
   "cell_type": "code",
   "execution_count": 201,
   "metadata": {},
   "outputs": [
    {
     "name": "stdout",
     "output_type": "stream",
     "text": [
      "232\n"
     ]
    }
   ],
   "source": [
    "print(Y_train.values.size)"
   ]
  },
  {
   "cell_type": "code",
   "execution_count": 138,
   "metadata": {},
   "outputs": [
    {
     "name": "stdout",
     "output_type": "stream",
     "text": [
      "(498, 2162)\n",
      "(3, 2162)\n"
     ]
    }
   ],
   "source": [
    "print(X_all.shape)\n",
    "#X_all[(25,5),:,:].shape\n",
    "indices = [0, 1, 4]\n",
    "#F = np.take(X_all, (indices))\n",
    "F=X_all.as_matrix()[indices]\n",
    "print(F.shape)"
   ]
  },
  {
   "cell_type": "markdown",
   "metadata": {},
   "source": [
    "### 2.2 Keras and mini-batching \n",
    "\n",
    "In this exercise, we want to train Keras using mini-batches. However, most deep learning frameworks require that all sequences in the same mini-batch have the same length. This is what allows vectorization to work: If you had a 3-word sentence and a 4-word sentence, then the computations needed for them are different (one takes 3 steps of an LSTM, one takes 4 steps) so it's just not possible to do them both at the same time.\n",
    "\n",
    "The common solution to this is to use padding. Specifically, set a maximum sequence length, and pad all sequences to the same length. For example, of the maximum sequence length is 20, we could pad every sentence with \"0\"s so that each input sentence is of length 20. Thus, a sentence \"i love you\" would be represented as $(e_{i}, e_{love}, e_{you}, \\vec{0}, \\vec{0}, \\ldots, \\vec{0})$. In this example, any sentences longer than 20 words would have to be truncated. One simple way to choose the maximum sequence length is to just pick the length of the longest sentence in the training set. \n"
   ]
  },
  {
   "cell_type": "code",
   "execution_count": 183,
   "metadata": {},
   "outputs": [],
   "source": [
    "def Gait_model(data):\n",
    "    \"\"\"\n",
    "    Function creating the Emojify-v2 model's graph.\n",
    "    \n",
    "    Arguments:\n",
    "    input - data\n",
    "\n",
    "    Returns:\n",
    "    model -- a model instance in Keras\n",
    "    \"\"\"\n",
    "   \n",
    "    ### START CODE HERE ###\n",
    "    gait_data = Input(data.shape, dtype='float32')\n",
    "    print(gait_data.shape)\n",
    "    #gait_data = tf.keras.backend.squeeze(gait_data, 0)\n",
    "    #examples = gait_data\n",
    "    #max_length = 15\n",
    "    #examples = examples[2:,:]\n",
    "    #print(examples.shape)\n",
    "    #Num_examples = examples.shape[0]\n",
    "    #embeddings = examples.reshape(Num_examples, max_length, 144)\n",
    "    #print(embeddings)\n",
    "    #embeddings = X_train# Reshape_to_input(X_train)\n",
    "    #embeddings = tf.convert_to_tensor(embeddings, name=\"raw_data\", dtype=tf.float32)\n",
    "\n",
    "    # Propagate the embeddings through an LSTM layer with 128-dimensional hidden state\n",
    "    # Be careful, the returned output should be a batch of sequences.\n",
    "    print(gait_data.shape)\n",
    "    X = LSTM(128, return_sequences=True)( gait_data)\n",
    "    # Add dropout with a probability of 0.5\n",
    "    X = Dropout(0.5)(X)\n",
    "    # Propagate X trough another LSTM layer with 128-dimensional hidden state\n",
    "    # Be careful, the returned output should be a single hidden state, not a batch of sequences.\n",
    "    X = LSTM(128, return_sequences=False)(X)\n",
    "    # Add dropout with a probability of 0.5\n",
    "    X = Dropout(0.5)(X)\n",
    "    # Propagate X through a Dense layer with softmax activation to get back a batch of 5-dimensional vectors.\n",
    "    X = Dense(3)(X)\n",
    "    # Add a softmax activation\n",
    "    X = Activation('softmax')(X)\n",
    "    \n",
    "    # Create Model instance which converts sentence_indices into X.\n",
    "    model = Model(inputs=gait_data, outputs=X)\n",
    "    \n",
    "    ### END CODE HERE ###\n",
    "    \n",
    "    return model"
   ]
  },
  {
   "cell_type": "code",
   "execution_count": null,
   "metadata": {
    "collapsed": true
   },
   "outputs": [],
   "source": []
  },
  {
   "cell_type": "markdown",
   "metadata": {},
   "source": [
    "Run the following cell to create your model and check its summary. Because all sentences in the dataset are less than 10 words, we chose `max_len = 10`.  You should see your architecture, it uses \"20,223,927\" parameters, of which 20,000,050 (the word embeddings) are non-trainable, and the remaining 223,877 are. Because our vocabulary size has 400,001 words (with valid indices from 0 to 400,000) there are 400,001\\*50 = 20,000,050 non-trainable parameters. "
   ]
  },
  {
   "cell_type": "code",
   "execution_count": 184,
   "metadata": {
    "scrolled": false
   },
   "outputs": [
    {
     "name": "stdout",
     "output_type": "stream",
     "text": [
      "(232, 15, 144)\n",
      "(?, 15, 144)\n",
      "(?, 15, 144)\n",
      "_________________________________________________________________\n",
      "Layer (type)                 Output Shape              Param #   \n",
      "=================================================================\n",
      "input_40 (InputLayer)        (None, 15, 144)           0         \n",
      "_________________________________________________________________\n",
      "lstm_42 (LSTM)               (None, 15, 128)           139776    \n",
      "_________________________________________________________________\n",
      "dropout_33 (Dropout)         (None, 15, 128)           0         \n",
      "_________________________________________________________________\n",
      "lstm_43 (LSTM)               (None, 128)               131584    \n",
      "_________________________________________________________________\n",
      "dropout_34 (Dropout)         (None, 128)               0         \n",
      "_________________________________________________________________\n",
      "dense_17 (Dense)             (None, 3)                 387       \n",
      "_________________________________________________________________\n",
      "activation_17 (Activation)   (None, 3)                 0         \n",
      "=================================================================\n",
      "Total params: 271,747\n",
      "Trainable params: 271,747\n",
      "Non-trainable params: 0\n",
      "_________________________________________________________________\n"
     ]
    }
   ],
   "source": [
    "maxLen = 15\n",
    "print(X.shape)\n",
    "model = Gait_model((X[0,:,:]))\n",
    "model.summary()"
   ]
  },
  {
   "cell_type": "code",
   "execution_count": 158,
   "metadata": {
    "collapsed": true
   },
   "outputs": [],
   "source": [
    "X = Reshape_to_input(X_train)"
   ]
  },
  {
   "cell_type": "markdown",
   "metadata": {},
   "source": [
    "As usual, after creating your model in Keras, you need to compile it and define what loss, optimizer and metrics your are want to use. Compile your model using `categorical_crossentropy` loss, `adam` optimizer and `['accuracy']` metrics:"
   ]
  },
  {
   "cell_type": "code",
   "execution_count": 185,
   "metadata": {
    "collapsed": true
   },
   "outputs": [],
   "source": [
    "model.compile(loss='categorical_crossentropy', optimizer='adam', metrics=['accuracy'])"
   ]
  },
  {
   "cell_type": "markdown",
   "metadata": {},
   "source": [
    "It's time to train your model. Your Emojifier-V2 `model` takes as input an array of shape (`m`, `max_len`) and outputs probability vectors of shape (`m`, `number of classes`). We thus have to convert X_train (array of sentences as strings) to X_train_indices (array of sentences as list of word indices), and Y_train (labels as indices) to Y_train_oh (labels as one-hot vectors)."
   ]
  },
  {
   "cell_type": "code",
   "execution_count": 215,
   "metadata": {},
   "outputs": [],
   "source": [
    "#X_train_indices = sentences_to_indices(X_train, word_to_index, maxLen)\n",
    "Y_train_oh = convert_to_one_hot(Y_train.values, C = 3)"
   ]
  },
  {
   "cell_type": "code",
   "execution_count": 220,
   "metadata": {},
   "outputs": [],
   "source": [
    "X_test = Reshape_to_input(X_test)\n",
    "Y_test_oh = convert_to_one_hot(Y_test.values, C = 3)"
   ]
  },
  {
   "cell_type": "code",
   "execution_count": 225,
   "metadata": {
    "collapsed": true
   },
   "outputs": [],
   "source": [
    "X_val = Reshape_to_input(X_val)\n",
    "Y_val_oh = convert_to_one_hot(Y_val.values, C = 3)"
   ]
  },
  {
   "cell_type": "markdown",
   "metadata": {},
   "source": [
    "Fit the Keras model on `X_train_indices` and `Y_train_oh`. We will use `epochs = 50` and `batch_size = 32`."
   ]
  },
  {
   "cell_type": "code",
   "execution_count": 243,
   "metadata": {
    "scrolled": true
   },
   "outputs": [
    {
     "name": "stdout",
     "output_type": "stream",
     "text": [
      "Epoch 1/25\n",
      "232/232 [==============================] - 2s 8ms/step - loss: 0.0917 - acc: 0.9353\n",
      "Epoch 2/25\n",
      "232/232 [==============================] - 1s 5ms/step - loss: 0.0897 - acc: 0.9569A: 0s - loss: 0.0921 - acc: 0.\n",
      "Epoch 3/25\n",
      "232/232 [==============================] - 1s 4ms/step - loss: 0.0900 - acc: 0.9569\n",
      "Epoch 4/25\n",
      "232/232 [==============================] - 1s 3ms/step - loss: 0.0922 - acc: 0.9526\n",
      "Epoch 5/25\n",
      "232/232 [==============================] - 1s 2ms/step - loss: 0.0925 - acc: 0.9353\n",
      "Epoch 6/25\n",
      "232/232 [==============================] - 1s 2ms/step - loss: 0.0925 - acc: 0.9397\n",
      "Epoch 7/25\n",
      "232/232 [==============================] - 1s 2ms/step - loss: 0.0938 - acc: 0.9397\n",
      "Epoch 8/25\n",
      "232/232 [==============================] - 1s 2ms/step - loss: 0.0932 - acc: 0.9397\n",
      "Epoch 9/25\n",
      "232/232 [==============================] - 1s 2ms/step - loss: 0.0893 - acc: 0.9655\n",
      "Epoch 10/25\n",
      "232/232 [==============================] - 1s 2ms/step - loss: 0.0948 - acc: 0.9440\n",
      "Epoch 11/25\n",
      "232/232 [==============================] - 1s 2ms/step - loss: 0.0934 - acc: 0.9397\n",
      "Epoch 12/25\n",
      "232/232 [==============================] - 1s 2ms/step - loss: 0.0932 - acc: 0.9440\n",
      "Epoch 13/25\n",
      "232/232 [==============================] - 1s 2ms/step - loss: 0.0903 - acc: 0.9526\n",
      "Epoch 14/25\n",
      "232/232 [==============================] - 1s 2ms/step - loss: 0.0929 - acc: 0.9440\n",
      "Epoch 15/25\n",
      "232/232 [==============================] - 1s 2ms/step - loss: 0.0923 - acc: 0.9440\n",
      "Epoch 16/25\n",
      "232/232 [==============================] - 1s 2ms/step - loss: 0.0910 - acc: 0.9483\n",
      "Epoch 17/25\n",
      "232/232 [==============================] - 1s 2ms/step - loss: 0.0918 - acc: 0.9397\n",
      "Epoch 18/25\n",
      "232/232 [==============================] - 1s 2ms/step - loss: 0.0912 - acc: 0.9397\n",
      "Epoch 19/25\n",
      "232/232 [==============================] - 1s 2ms/step - loss: 0.0901 - acc: 0.9483\n",
      "Epoch 20/25\n",
      "232/232 [==============================] - 1s 2ms/step - loss: 0.0918 - acc: 0.9353\n",
      "Epoch 21/25\n",
      "232/232 [==============================] - 1s 2ms/step - loss: 0.0929 - acc: 0.9397\n",
      "Epoch 22/25\n",
      "232/232 [==============================] - 1s 2ms/step - loss: 0.0910 - acc: 0.9397\n",
      "Epoch 23/25\n",
      "232/232 [==============================] - 1s 2ms/step - loss: 0.0915 - acc: 0.9526\n",
      "Epoch 24/25\n",
      "232/232 [==============================] - 1s 2ms/step - loss: 0.0929 - acc: 0.9483\n",
      "Epoch 25/25\n",
      "232/232 [==============================] - 1s 2ms/step - loss: 0.0926 - acc: 0.9397\n"
     ]
    },
    {
     "data": {
      "text/plain": [
       "<keras.callbacks.History at 0xe8a47bc2e8>"
      ]
     },
     "execution_count": 243,
     "metadata": {},
     "output_type": "execute_result"
    }
   ],
   "source": [
    "model.fit(X, Y_train_oh, epochs = 25, batch_size = 20, shuffle=True)"
   ]
  },
  {
   "cell_type": "markdown",
   "metadata": {},
   "source": [
    "Your model should perform close to **100% accuracy** on the training set. The exact accuracy you get may be a little different. Run the following cell to evaluate your model on the test set. "
   ]
  },
  {
   "cell_type": "code",
   "execution_count": 244,
   "metadata": {
    "scrolled": true
   },
   "outputs": [
    {
     "name": "stdout",
     "output_type": "stream",
     "text": [
      "120/120 [==============================] - 0s 2ms/step\n",
      "\n",
      "Test accuracy =  0.616666662693\n"
     ]
    }
   ],
   "source": [
    "#X_test_indices = sentences_to_indices(X_test, word_to_index, max_len = maxLen)\n",
    "#Y_test_oh = convert_to_one_hot(Y_test, C = 5)\n",
    "loss, acc = model.evaluate(X_test, Y_test_oh)\n",
    "print()\n",
    "print(\"Test accuracy = \", acc)"
   ]
  },
  {
   "cell_type": "markdown",
   "metadata": {},
   "source": [
    "You should get a test accuracy between 80% and 95%. Run the cell below to see the mislabelled examples. "
   ]
  }
 ],
 "metadata": {
  "coursera": {
   "course_slug": "nlp-sequence-models",
   "graded_item_id": "RNnEs",
   "launcher_item_id": "acNYU"
  },
  "kernelspec": {
   "display_name": "Python 3",
   "language": "python",
   "name": "python3"
  },
  "language_info": {
   "codemirror_mode": {
    "name": "ipython",
    "version": 3
   },
   "file_extension": ".py",
   "mimetype": "text/x-python",
   "name": "python",
   "nbconvert_exporter": "python",
   "pygments_lexer": "ipython3",
   "version": "3.6.2"
  }
 },
 "nbformat": 4,
 "nbformat_minor": 2
}
